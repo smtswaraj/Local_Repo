{
  "nbformat": 4,
  "nbformat_minor": 0,
  "metadata": {
    "colab": {
      "provenance": [],
      "include_colab_link": true
    },
    "kernelspec": {
      "name": "python3",
      "display_name": "Python 3"
    },
    "language_info": {
      "name": "python"
    }
  },
  "cells": [
    {
      "cell_type": "markdown",
      "metadata": {
        "id": "view-in-github",
        "colab_type": "text"
      },
      "source": [
        "<a href=\"https://colab.research.google.com/github/smtswaraj/Local_Repo/blob/main/Copy_of_Colab_test.ipynb\" target=\"_parent\"><img src=\"https://colab.research.google.com/assets/colab-badge.svg\" alt=\"Open In Colab\"/></a>"
      ]
    },
    {
      "cell_type": "code",
      "execution_count": null,
      "metadata": {
        "colab": {
          "base_uri": "https://localhost:8080/"
        },
        "id": "FbXUGHrQjMHp",
        "outputId": "a9c7ca0c-c582-4830-f421-96fb01f849a6"
      },
      "outputs": [
        {
          "output_type": "stream",
          "name": "stdout",
          "text": [
            "Swaraj\n"
          ]
        }
      ],
      "source": [
        "print(\"Swaraj\")"
      ]
    },
    {
      "cell_type": "code",
      "source": [
        "a = \"Swaraj\"\n",
        "b = \"Nayak\"\n",
        "print(a+\" \"+b)"
      ],
      "metadata": {
        "id": "_CQ_iQODjZrX",
        "colab": {
          "base_uri": "https://localhost:8080/"
        },
        "outputId": "0153fee9-fb4a-4cd0-c651-f9c875934840"
      },
      "execution_count": null,
      "outputs": [
        {
          "output_type": "stream",
          "name": "stdout",
          "text": [
            "Swaraj Nayak\n"
          ]
        }
      ]
    },
    {
      "cell_type": "code",
      "source": [
        "for i in range(10):\n",
        "  print(i)"
      ],
      "metadata": {
        "colab": {
          "base_uri": "https://localhost:8080/"
        },
        "id": "559d4epikKHs",
        "outputId": "06087815-ba15-42b4-b03c-5fad79c0ee09"
      },
      "execution_count": null,
      "outputs": [
        {
          "output_type": "stream",
          "name": "stdout",
          "text": [
            "0\n",
            "1\n",
            "2\n",
            "3\n",
            "4\n",
            "5\n",
            "6\n",
            "7\n",
            "8\n",
            "9\n"
          ]
        }
      ]
    },
    {
      "cell_type": "code",
      "source": [
        "from threading import Thread\n",
        "from time import sleep\n",
        "class A(Thread):\n",
        "  def run(self):\n",
        "    for j in [\"Hi\",\"Hello\",\"Swaraj\"]:\n",
        "      print(j)\n",
        "\n",
        "class B(Thread):\n",
        "  def run(self):\n",
        "    for j in range(10,20):\n",
        "      print(j)\n",
        "      sleep(1)\n",
        "a = A()\n",
        "b = B()\n",
        "a.start()\n",
        "b.start()"
      ],
      "metadata": {
        "id": "k9MDoqsSmXGL",
        "outputId": "36d494a2-ad22-417a-ef1b-a9805edaf709",
        "colab": {
          "base_uri": "https://localhost:8080/"
        }
      },
      "execution_count": null,
      "outputs": [
        {
          "output_type": "stream",
          "name": "stdout",
          "text": [
            "Hi\n",
            "Hello\n",
            "Swaraj\n",
            "10\n"
          ]
        }
      ]
    }
  ]
}